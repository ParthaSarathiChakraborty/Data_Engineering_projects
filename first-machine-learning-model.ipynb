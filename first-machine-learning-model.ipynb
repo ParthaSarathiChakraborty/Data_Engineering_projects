{
 "cells": [
  {
   "cell_type": "markdown",
   "id": "31fed847",
   "metadata": {
    "papermill": {
     "duration": 0.006895,
     "end_time": "2022-06-25T15:49:22.409481",
     "exception": false,
     "start_time": "2022-06-25T15:49:22.402586",
     "status": "completed"
    },
    "tags": []
   },
   "source": [
    "**This notebook is an exercise in the [Introduction to Machine Learning](https://www.kaggle.com/learn/intro-to-machine-learning) course.  You can reference the tutorial at [this link](https://www.kaggle.com/dansbecker/your-first-machine-learning-model).**\n",
    "\n",
    "---\n"
   ]
  },
  {
   "cell_type": "markdown",
   "id": "5f8dae7d",
   "metadata": {
    "papermill": {
     "duration": 0.00542,
     "end_time": "2022-06-25T15:49:22.420886",
     "exception": false,
     "start_time": "2022-06-25T15:49:22.415466",
     "status": "completed"
    },
    "tags": []
   },
   "source": [
    "## Recap\n",
    "So far, you have loaded your data and reviewed it with the following code. Run this cell to set up your coding environment where the previous step left off."
   ]
  },
  {
   "cell_type": "code",
   "execution_count": 1,
   "id": "64b44e16",
   "metadata": {
    "execution": {
     "iopub.execute_input": "2022-06-25T15:49:22.434993Z",
     "iopub.status.busy": "2022-06-25T15:49:22.434218Z",
     "iopub.status.idle": "2022-06-25T15:49:23.652135Z",
     "shell.execute_reply": "2022-06-25T15:49:23.650884Z"
    },
    "papermill": {
     "duration": 1.228486,
     "end_time": "2022-06-25T15:49:23.654962",
     "exception": false,
     "start_time": "2022-06-25T15:49:22.426476",
     "status": "completed"
    },
    "tags": []
   },
   "outputs": [
    {
     "name": "stdout",
     "output_type": "stream",
     "text": [
      "Setup Complete\n"
     ]
    }
   ],
   "source": [
    "# Code you have previously used to load data\n",
    "import pandas as pd\n",
    "\n",
    "# Path of the file to read\n",
    "iowa_file_path = '../input/home-data-for-ml-course/train.csv'\n",
    "\n",
    "home_data = pd.read_csv(iowa_file_path)\n",
    "\n",
    "# Set up code checking\n",
    "from learntools.core import binder\n",
    "binder.bind(globals())\n",
    "from learntools.machine_learning.ex3 import *\n",
    "\n",
    "print(\"Setup Complete\")"
   ]
  },
  {
   "cell_type": "markdown",
   "id": "27a824fa",
   "metadata": {
    "papermill": {
     "duration": 0.00536,
     "end_time": "2022-06-25T15:49:23.666780",
     "exception": false,
     "start_time": "2022-06-25T15:49:23.661420",
     "status": "completed"
    },
    "tags": []
   },
   "source": [
    "# Exercises\n",
    "\n",
    "## Step 1: Specify Prediction Target\n",
    "Select the target variable, which corresponds to the sales price. Save this to a new variable called `y`. You'll need to print a list of the columns to find the name of the column you need.\n"
   ]
  },
  {
   "cell_type": "code",
   "execution_count": 2,
   "id": "29974db9",
   "metadata": {
    "collapsed": true,
    "execution": {
     "iopub.execute_input": "2022-06-25T15:49:23.679953Z",
     "iopub.status.busy": "2022-06-25T15:49:23.679153Z",
     "iopub.status.idle": "2022-06-25T15:49:23.684269Z",
     "shell.execute_reply": "2022-06-25T15:49:23.683103Z"
    },
    "jupyter": {
     "outputs_hidden": true
    },
    "papermill": {
     "duration": 0.014138,
     "end_time": "2022-06-25T15:49:23.686385",
     "exception": false,
     "start_time": "2022-06-25T15:49:23.672247",
     "status": "completed"
    },
    "tags": []
   },
   "outputs": [],
   "source": [
    "# print the list of columns in the dataset to find the name of the prediction target\n"
   ]
  },
  {
   "cell_type": "code",
   "execution_count": 3,
   "id": "279f68ff",
   "metadata": {
    "execution": {
     "iopub.execute_input": "2022-06-25T15:49:23.700003Z",
     "iopub.status.busy": "2022-06-25T15:49:23.699077Z",
     "iopub.status.idle": "2022-06-25T15:49:23.716175Z",
     "shell.execute_reply": "2022-06-25T15:49:23.714936Z"
    },
    "papermill": {
     "duration": 0.026471,
     "end_time": "2022-06-25T15:49:23.718501",
     "exception": false,
     "start_time": "2022-06-25T15:49:23.692030",
     "status": "completed"
    },
    "tags": []
   },
   "outputs": [
    {
     "data": {
      "application/javascript": [
       "parent.postMessage({\"jupyterEvent\": \"custom.exercise_interaction\", \"data\": {\"outcomeType\": 1, \"valueTowardsCompletion\": 0.25, \"interactionType\": 1, \"questionType\": 2, \"questionId\": \"1_SetTarget\", \"learnToolsVersion\": \"0.3.4\", \"failureMessage\": \"\", \"exceptionClass\": \"\", \"trace\": \"\"}}, \"*\")"
      ],
      "text/plain": [
       "<IPython.core.display.Javascript object>"
      ]
     },
     "metadata": {},
     "output_type": "display_data"
    },
    {
     "data": {
      "text/markdown": [
       "<span style=\"color:#33cc33\">Correct</span>"
      ],
      "text/plain": [
       "Correct"
      ]
     },
     "metadata": {},
     "output_type": "display_data"
    }
   ],
   "source": [
    "y = home_data.SalePrice\n",
    "\n",
    "# Check your answer\n",
    "step_1.check()"
   ]
  },
  {
   "cell_type": "code",
   "execution_count": 4,
   "id": "a1cf43a0",
   "metadata": {
    "execution": {
     "iopub.execute_input": "2022-06-25T15:49:23.733265Z",
     "iopub.status.busy": "2022-06-25T15:49:23.732006Z",
     "iopub.status.idle": "2022-06-25T15:49:23.741660Z",
     "shell.execute_reply": "2022-06-25T15:49:23.740769Z"
    },
    "papermill": {
     "duration": 0.019245,
     "end_time": "2022-06-25T15:49:23.743795",
     "exception": false,
     "start_time": "2022-06-25T15:49:23.724550",
     "status": "completed"
    },
    "tags": []
   },
   "outputs": [
    {
     "data": {
      "application/javascript": [
       "parent.postMessage({\"jupyterEvent\": \"custom.exercise_interaction\", \"data\": {\"interactionType\": 3, \"questionType\": 2, \"questionId\": \"1_SetTarget\", \"learnToolsVersion\": \"0.3.4\", \"valueTowardsCompletion\": 0.0, \"failureMessage\": \"\", \"exceptionClass\": \"\", \"trace\": \"\", \"outcomeType\": 4}}, \"*\")"
      ],
      "text/plain": [
       "<IPython.core.display.Javascript object>"
      ]
     },
     "metadata": {},
     "output_type": "display_data"
    },
    {
     "data": {
      "text/markdown": [
       "<span style=\"color:#33cc99\">Solution:</span> \n",
       "```python\n",
       "y = home_data.SalePrice\n",
       "```"
      ],
      "text/plain": [
       "Solution: \n",
       "```python\n",
       "y = home_data.SalePrice\n",
       "```"
      ]
     },
     "metadata": {},
     "output_type": "display_data"
    }
   ],
   "source": [
    "# The lines below will show you a hint or the solution.\n",
    "# step_1.hint() \n",
    "step_1.solution()"
   ]
  },
  {
   "cell_type": "markdown",
   "id": "a7ca8b34",
   "metadata": {
    "papermill": {
     "duration": 0.006277,
     "end_time": "2022-06-25T15:49:23.756435",
     "exception": false,
     "start_time": "2022-06-25T15:49:23.750158",
     "status": "completed"
    },
    "tags": []
   },
   "source": [
    "## Step 2: Create X\n",
    "Now you will create a DataFrame called `X` holding the predictive features.\n",
    "\n",
    "Since you want only some columns from the original data, you'll first create a list with the names of the columns you want in `X`.\n",
    "\n",
    "You'll use just the following columns in the list (you can copy and paste the whole list to save some typing, though you'll still need to add quotes):\n",
    "  * LotArea\n",
    "  * YearBuilt\n",
    "  * 1stFlrSF\n",
    "  * 2ndFlrSF\n",
    "  * FullBath\n",
    "  * BedroomAbvGr\n",
    "  * TotRmsAbvGrd\n",
    "\n",
    "After you've created that list of features, use it to create the DataFrame that you'll use to fit the model."
   ]
  },
  {
   "cell_type": "code",
   "execution_count": 5,
   "id": "35d3bcaf",
   "metadata": {
    "execution": {
     "iopub.execute_input": "2022-06-25T15:49:23.771318Z",
     "iopub.status.busy": "2022-06-25T15:49:23.770325Z",
     "iopub.status.idle": "2022-06-25T15:49:23.784156Z",
     "shell.execute_reply": "2022-06-25T15:49:23.783287Z"
    },
    "papermill": {
     "duration": 0.023641,
     "end_time": "2022-06-25T15:49:23.786266",
     "exception": false,
     "start_time": "2022-06-25T15:49:23.762625",
     "status": "completed"
    },
    "tags": []
   },
   "outputs": [
    {
     "data": {
      "application/javascript": [
       "parent.postMessage({\"jupyterEvent\": \"custom.exercise_interaction\", \"data\": {\"outcomeType\": 1, \"valueTowardsCompletion\": 0.25, \"interactionType\": 1, \"questionType\": 2, \"questionId\": \"2_SelectPredictionData\", \"learnToolsVersion\": \"0.3.4\", \"failureMessage\": \"\", \"exceptionClass\": \"\", \"trace\": \"\"}}, \"*\")"
      ],
      "text/plain": [
       "<IPython.core.display.Javascript object>"
      ]
     },
     "metadata": {},
     "output_type": "display_data"
    },
    {
     "data": {
      "text/markdown": [
       "<span style=\"color:#33cc33\">Correct</span>"
      ],
      "text/plain": [
       "Correct"
      ]
     },
     "metadata": {},
     "output_type": "display_data"
    }
   ],
   "source": [
    "# Create the list of features below\n",
    "feature_names = ['LotArea',\n",
    "   'YearBuilt',\n",
    "   '1stFlrSF',\n",
    "  '2ndFlrSF',\n",
    "   'FullBath',\n",
    "   'BedroomAbvGr',\n",
    "   'TotRmsAbvGrd']\n",
    "\n",
    "# Select data corresponding to features in feature_names\n",
    "X = home_data[feature_names]\n",
    "\n",
    "# Check your answer\n",
    "step_2.check()"
   ]
  },
  {
   "cell_type": "code",
   "execution_count": 6,
   "id": "bfc72316",
   "metadata": {
    "collapsed": true,
    "execution": {
     "iopub.execute_input": "2022-06-25T15:49:23.800925Z",
     "iopub.status.busy": "2022-06-25T15:49:23.800526Z",
     "iopub.status.idle": "2022-06-25T15:49:23.804985Z",
     "shell.execute_reply": "2022-06-25T15:49:23.803772Z"
    },
    "jupyter": {
     "outputs_hidden": true
    },
    "papermill": {
     "duration": 0.01432,
     "end_time": "2022-06-25T15:49:23.807126",
     "exception": false,
     "start_time": "2022-06-25T15:49:23.792806",
     "status": "completed"
    },
    "tags": []
   },
   "outputs": [],
   "source": [
    "# step_2.hint()\n",
    "# step_2.solution()"
   ]
  },
  {
   "cell_type": "markdown",
   "id": "10706d64",
   "metadata": {
    "papermill": {
     "duration": 0.006223,
     "end_time": "2022-06-25T15:49:23.819982",
     "exception": false,
     "start_time": "2022-06-25T15:49:23.813759",
     "status": "completed"
    },
    "tags": []
   },
   "source": [
    "## Review Data\n",
    "Before building a model, take a quick look at **X** to verify it looks sensible"
   ]
  },
  {
   "cell_type": "code",
   "execution_count": 7,
   "id": "928dfbbe",
   "metadata": {
    "execution": {
     "iopub.execute_input": "2022-06-25T15:49:23.834658Z",
     "iopub.status.busy": "2022-06-25T15:49:23.833915Z",
     "iopub.status.idle": "2022-06-25T15:49:23.844696Z",
     "shell.execute_reply": "2022-06-25T15:49:23.842919Z"
    },
    "papermill": {
     "duration": 0.022149,
     "end_time": "2022-06-25T15:49:23.848487",
     "exception": false,
     "start_time": "2022-06-25T15:49:23.826338",
     "status": "completed"
    },
    "tags": []
   },
   "outputs": [
    {
     "name": "stdout",
     "output_type": "stream",
     "text": [
      "   LotArea  YearBuilt  1stFlrSF  2ndFlrSF  FullBath  BedroomAbvGr  \\\n",
      "0     8450       2003       856       854         2             3   \n",
      "1     9600       1976      1262         0         2             3   \n",
      "2    11250       2001       920       866         2             3   \n",
      "3     9550       1915       961       756         1             3   \n",
      "4    14260       2000      1145      1053         2             4   \n",
      "\n",
      "   TotRmsAbvGrd  \n",
      "0             8  \n",
      "1             6  \n",
      "2             6  \n",
      "3             7  \n",
      "4             9  \n"
     ]
    }
   ],
   "source": [
    "# Review data\n",
    "# print description or statistics from X\n",
    "print(X.head())\n",
    "\n",
    "# print the top few lines\n",
    "#print(_)"
   ]
  },
  {
   "cell_type": "markdown",
   "id": "5169a200",
   "metadata": {
    "papermill": {
     "duration": 0.006391,
     "end_time": "2022-06-25T15:49:23.861949",
     "exception": false,
     "start_time": "2022-06-25T15:49:23.855558",
     "status": "completed"
    },
    "tags": []
   },
   "source": [
    "## Step 3: Specify and Fit Model\n",
    "Create a `DecisionTreeRegressor` and save it iowa_model. Ensure you've done the relevant import from sklearn to run this command.\n",
    "\n",
    "Then fit the model you just created using the data in `X` and `y` that you saved above."
   ]
  },
  {
   "cell_type": "code",
   "execution_count": 8,
   "id": "942f5dae",
   "metadata": {
    "execution": {
     "iopub.execute_input": "2022-06-25T15:49:23.876989Z",
     "iopub.status.busy": "2022-06-25T15:49:23.876216Z",
     "iopub.status.idle": "2022-06-25T15:49:23.896508Z",
     "shell.execute_reply": "2022-06-25T15:49:23.895664Z"
    },
    "papermill": {
     "duration": 0.030345,
     "end_time": "2022-06-25T15:49:23.898703",
     "exception": false,
     "start_time": "2022-06-25T15:49:23.868358",
     "status": "completed"
    },
    "tags": []
   },
   "outputs": [
    {
     "data": {
      "application/javascript": [
       "parent.postMessage({\"jupyterEvent\": \"custom.exercise_interaction\", \"data\": {\"outcomeType\": 1, \"valueTowardsCompletion\": 0.25, \"interactionType\": 1, \"questionType\": 2, \"questionId\": \"3_CreateModel\", \"learnToolsVersion\": \"0.3.4\", \"failureMessage\": \"\", \"exceptionClass\": \"\", \"trace\": \"\"}}, \"*\")"
      ],
      "text/plain": [
       "<IPython.core.display.Javascript object>"
      ]
     },
     "metadata": {},
     "output_type": "display_data"
    },
    {
     "data": {
      "text/markdown": [
       "<span style=\"color:#33cc33\">Correct</span>"
      ],
      "text/plain": [
       "Correct"
      ]
     },
     "metadata": {},
     "output_type": "display_data"
    }
   ],
   "source": [
    " from sklearn.tree import DecisionTreeRegressor\n",
    "#specify the model. \n",
    "#For model reproducibility, set a numeric value for random_state when specifying the model\n",
    "iowa_model = DecisionTreeRegressor(random_state = 1)\n",
    "\n",
    "# Fit the model\n",
    "iowa_model.fit(X,y)\n",
    "\n",
    "# Check your answer\n",
    "step_3.check()"
   ]
  },
  {
   "cell_type": "code",
   "execution_count": 9,
   "id": "2f8f01d6",
   "metadata": {
    "collapsed": true,
    "execution": {
     "iopub.execute_input": "2022-06-25T15:49:23.915549Z",
     "iopub.status.busy": "2022-06-25T15:49:23.914810Z",
     "iopub.status.idle": "2022-06-25T15:49:23.919338Z",
     "shell.execute_reply": "2022-06-25T15:49:23.918482Z"
    },
    "jupyter": {
     "outputs_hidden": true
    },
    "papermill": {
     "duration": 0.016049,
     "end_time": "2022-06-25T15:49:23.921615",
     "exception": false,
     "start_time": "2022-06-25T15:49:23.905566",
     "status": "completed"
    },
    "tags": []
   },
   "outputs": [],
   "source": [
    "# step_3.hint()\n",
    "# step_3.solution()"
   ]
  },
  {
   "cell_type": "markdown",
   "id": "3f05dae0",
   "metadata": {
    "papermill": {
     "duration": 0.006722,
     "end_time": "2022-06-25T15:49:23.935465",
     "exception": false,
     "start_time": "2022-06-25T15:49:23.928743",
     "status": "completed"
    },
    "tags": []
   },
   "source": [
    "## Step 4: Make Predictions\n",
    "Make predictions with the model's `predict` command using `X` as the data. Save the results to a variable called `predictions`."
   ]
  },
  {
   "cell_type": "code",
   "execution_count": 10,
   "id": "95e128f7",
   "metadata": {
    "execution": {
     "iopub.execute_input": "2022-06-25T15:49:23.951922Z",
     "iopub.status.busy": "2022-06-25T15:49:23.951119Z",
     "iopub.status.idle": "2022-06-25T15:49:23.965470Z",
     "shell.execute_reply": "2022-06-25T15:49:23.964349Z"
    },
    "papermill": {
     "duration": 0.025072,
     "end_time": "2022-06-25T15:49:23.967637",
     "exception": false,
     "start_time": "2022-06-25T15:49:23.942565",
     "status": "completed"
    },
    "tags": []
   },
   "outputs": [
    {
     "name": "stdout",
     "output_type": "stream",
     "text": [
      "[208500. 181500. 223500. ... 266500. 142125. 147500.]\n"
     ]
    },
    {
     "data": {
      "application/javascript": [
       "parent.postMessage({\"jupyterEvent\": \"custom.exercise_interaction\", \"data\": {\"outcomeType\": 1, \"valueTowardsCompletion\": 0.25, \"interactionType\": 1, \"questionType\": 2, \"questionId\": \"4_MakePredictions\", \"learnToolsVersion\": \"0.3.4\", \"failureMessage\": \"\", \"exceptionClass\": \"\", \"trace\": \"\"}}, \"*\")"
      ],
      "text/plain": [
       "<IPython.core.display.Javascript object>"
      ]
     },
     "metadata": {},
     "output_type": "display_data"
    },
    {
     "data": {
      "text/markdown": [
       "<span style=\"color:#33cc33\">Correct</span>"
      ],
      "text/plain": [
       "Correct"
      ]
     },
     "metadata": {},
     "output_type": "display_data"
    }
   ],
   "source": [
    "predictions = iowa_model.predict(X)\n",
    "print(predictions)\n",
    "\n",
    "# Check your answer\n",
    "step_4.check()"
   ]
  },
  {
   "cell_type": "code",
   "execution_count": 11,
   "id": "a52aa01b",
   "metadata": {
    "execution": {
     "iopub.execute_input": "2022-06-25T15:49:23.984512Z",
     "iopub.status.busy": "2022-06-25T15:49:23.983905Z",
     "iopub.status.idle": "2022-06-25T15:49:23.996597Z",
     "shell.execute_reply": "2022-06-25T15:49:23.995767Z"
    },
    "papermill": {
     "duration": 0.023241,
     "end_time": "2022-06-25T15:49:23.998641",
     "exception": false,
     "start_time": "2022-06-25T15:49:23.975400",
     "status": "completed"
    },
    "tags": []
   },
   "outputs": [
    {
     "data": {
      "application/javascript": [
       "parent.postMessage({\"jupyterEvent\": \"custom.exercise_interaction\", \"data\": {\"interactionType\": 2, \"questionType\": 2, \"questionId\": \"4_MakePredictions\", \"learnToolsVersion\": \"0.3.4\", \"valueTowardsCompletion\": 0.0, \"failureMessage\": \"\", \"exceptionClass\": \"\", \"trace\": \"\", \"outcomeType\": 4}}, \"*\")"
      ],
      "text/plain": [
       "<IPython.core.display.Javascript object>"
      ]
     },
     "metadata": {},
     "output_type": "display_data"
    },
    {
     "data": {
      "text/markdown": [
       "<span style=\"color:#3366cc\">Hint:</span> Use `iowa_model.predict` with an argument holding the data to predict with."
      ],
      "text/plain": [
       "Hint: Use `iowa_model.predict` with an argument holding the data to predict with."
      ]
     },
     "metadata": {},
     "output_type": "display_data"
    },
    {
     "data": {
      "application/javascript": [
       "parent.postMessage({\"jupyterEvent\": \"custom.exercise_interaction\", \"data\": {\"interactionType\": 3, \"questionType\": 2, \"questionId\": \"4_MakePredictions\", \"learnToolsVersion\": \"0.3.4\", \"valueTowardsCompletion\": 0.0, \"failureMessage\": \"\", \"exceptionClass\": \"\", \"trace\": \"\", \"outcomeType\": 4}}, \"*\")"
      ],
      "text/plain": [
       "<IPython.core.display.Javascript object>"
      ]
     },
     "metadata": {},
     "output_type": "display_data"
    },
    {
     "data": {
      "text/markdown": [
       "<span style=\"color:#33cc99\">Solution:</span> \n",
       "```python\n",
       "iowa_model.predict(X)\n",
       "```"
      ],
      "text/plain": [
       "Solution: \n",
       "```python\n",
       "iowa_model.predict(X)\n",
       "```"
      ]
     },
     "metadata": {},
     "output_type": "display_data"
    }
   ],
   "source": [
    " step_4.hint()\n",
    " step_4.solution()"
   ]
  },
  {
   "cell_type": "markdown",
   "id": "d6752ff7",
   "metadata": {
    "papermill": {
     "duration": 0.007583,
     "end_time": "2022-06-25T15:49:24.014014",
     "exception": false,
     "start_time": "2022-06-25T15:49:24.006431",
     "status": "completed"
    },
    "tags": []
   },
   "source": [
    "## Think About Your Results\n",
    "\n",
    "Use the `head` method to compare the top few predictions to the actual home values (in `y`) for those same homes. Anything surprising?\n"
   ]
  },
  {
   "cell_type": "code",
   "execution_count": 12,
   "id": "9fce50e3",
   "metadata": {
    "execution": {
     "iopub.execute_input": "2022-06-25T15:49:24.031836Z",
     "iopub.status.busy": "2022-06-25T15:49:24.031173Z",
     "iopub.status.idle": "2022-06-25T15:49:24.035611Z",
     "shell.execute_reply": "2022-06-25T15:49:24.034843Z"
    },
    "papermill": {
     "duration": 0.01595,
     "end_time": "2022-06-25T15:49:24.037808",
     "exception": false,
     "start_time": "2022-06-25T15:49:24.021858",
     "status": "completed"
    },
    "tags": []
   },
   "outputs": [],
   "source": [
    "# You can write code in this cell\n"
   ]
  },
  {
   "cell_type": "markdown",
   "id": "326ca2d5",
   "metadata": {
    "papermill": {
     "duration": 0.007608,
     "end_time": "2022-06-25T15:49:24.053617",
     "exception": false,
     "start_time": "2022-06-25T15:49:24.046009",
     "status": "completed"
    },
    "tags": []
   },
   "source": [
    "It's natural to ask how accurate the model's predictions will be and how you can improve that. That will be you're next step.\n",
    "\n",
    "# Keep Going\n",
    "\n",
    "You are ready for **[Model Validation](https://www.kaggle.com/dansbecker/model-validation).**\n"
   ]
  },
  {
   "cell_type": "markdown",
   "id": "95ec7d9e",
   "metadata": {
    "papermill": {
     "duration": 0.007549,
     "end_time": "2022-06-25T15:49:24.069192",
     "exception": false,
     "start_time": "2022-06-25T15:49:24.061643",
     "status": "completed"
    },
    "tags": []
   },
   "source": [
    "---\n",
    "\n",
    "\n",
    "\n",
    "\n",
    "*Have questions or comments? Visit the [course discussion forum](https://www.kaggle.com/learn/intro-to-machine-learning/discussion) to chat with other learners.*"
   ]
  }
 ],
 "metadata": {
  "kernelspec": {
   "display_name": "Python 3",
   "language": "python",
   "name": "python3"
  },
  "language_info": {
   "codemirror_mode": {
    "name": "ipython",
    "version": 3
   },
   "file_extension": ".py",
   "mimetype": "text/x-python",
   "name": "python",
   "nbconvert_exporter": "python",
   "pygments_lexer": "ipython3",
   "version": "3.7.12"
  },
  "papermill": {
   "default_parameters": {},
   "duration": 12.015171,
   "end_time": "2022-06-25T15:49:24.798077",
   "environment_variables": {},
   "exception": null,
   "input_path": "__notebook__.ipynb",
   "output_path": "__notebook__.ipynb",
   "parameters": {},
   "start_time": "2022-06-25T15:49:12.782906",
   "version": "2.3.4"
  }
 },
 "nbformat": 4,
 "nbformat_minor": 5
}
